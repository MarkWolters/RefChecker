{
 "cells": [
  {
   "cell_type": "code",
   "execution_count": 2,
   "metadata": {},
   "outputs": [],
   "source": [
    "import os\n",
    "\n",
    "os.environ['AWS_REGION_NAME'] = 'us-west-2'"
   ]
  },
  {
   "cell_type": "code",
   "execution_count": 3,
   "metadata": {},
   "outputs": [
    {
     "name": "stdout",
     "output_type": "stream",
     "text": [
      "### Text\n",
      "[1] The longest river in the world is the Nile River, located in northeastern Africa. [2] It stretches approximately 6,650 kilometers (4,130 miles) in length. [3] The Nile has been historically significant, playing a crucial role in the development of ancient Egyptian civilization and supporting life and agriculture along its banks.\n",
      "### Claims\n",
      "The longest river in the world is the Nile River. [1]\n",
      "The Nile River is located in northeastern Africa. [1]\n",
      "The Nile River stretches approximately 6,650 kilometers (4,130 miles) in length. [2]\n",
      "The Nile River has been historically significant. [3]\n",
      "The Nile River played a crucial role in the development of ancient Egyptian civilization. [3]\n",
      "The Nile River supported life and agriculture along its banks. [3]\n"
     ]
    }
   ],
   "source": [
    "from refchecker.extractor import ClaudeExtractor\n",
    "from refchecker.claim_utils import Claim, Response, Sentence\n",
    "\n",
    "\n",
    "text = \\\n",
    "    \"The longest river in the world is the Nile River, located in northeastern Africa. \" + \\\n",
    "    \"It stretches approximately 6,650 kilometers (4,130 miles) in length. \" + \\\n",
    "    \"The Nile has been historically significant, playing a crucial role in the \" + \\\n",
    "    \"development of ancient Egyptian civilization and supporting life and agriculture along its banks.\"\n",
    "\n",
    "reference = \\\n",
    "    \"The Nile is a major north-flowing river in northeastern Africa. \" + \\\n",
    "    \"It flows into the Mediterranean Sea. The Nile is the longest river \" + \\\n",
    "    \"in Africa and has historically been considered the longest river in \" + \\\n",
    "    \"the world,[3][4] though this has been contested by research suggesting \" + \\\n",
    "    \"that the Amazon River is slightly longer.[5][6] Of the world's \" + \\\n",
    "    \"major rivers, the Nile is one of the smallest, as measured by annual \" + \\\n",
    "    \"flow in cubic metres of water.[7] About 6,650 km (4,130 mi)[a] long, its \" + \\\n",
    "    \"drainage basin covers eleven countries: the Democratic Republic of the Congo, \" + \\\n",
    "    \"Tanzania, Burundi, Rwanda, Uganda, Kenya, Ethiopia, Eritrea, South Sudan, Sudan, \" + \\\n",
    "    \"and Egypt.[9] In particular, the Nile is the primary water source of Egypt, Sudan \" + \\\n",
    "    \"and South Sudan.[10] Additionally, the Nile is an important economic river, supporting agriculture and fishing.\"\n",
    "\n",
    "# claim extraction\n",
    "extractor = ClaudeExtractor()\n",
    "\n",
    "# each element in claims is an instance of Claim\n",
    "claims = extractor.extract_subsentence_claims(\n",
    "    response=text,\n",
    "    max_new_tokens=1000\n",
    ")\n",
    "response = Response(text)\n",
    "print('### Text')\n",
    "print(response.get_indexed_response(condense_newlines=False))\n",
    "print('### Claims')\n",
    "for c in claims:\n",
    "    print(c)"
   ]
  },
  {
   "cell_type": "code",
   "execution_count": 4,
   "metadata": {},
   "outputs": [
    {
     "name": "stdout",
     "output_type": "stream",
     "text": [
      "### Claim\n",
      "The longest river in the world is the Nile River.\n",
      "### Attributed Sentences\n",
      "The longest river in the world is the Nile River, located in northeastern Africa.\n",
      "\n",
      "### Claim\n",
      "The Nile River is located in northeastern Africa.\n",
      "### Attributed Sentences\n",
      "The longest river in the world is the Nile River, located in northeastern Africa.\n",
      "\n",
      "### Claim\n",
      "The Nile River stretches approximately 6,650 kilometers (4,130 miles) in length.\n",
      "### Attributed Sentences\n",
      "It stretches approximately 6,650 kilometers (4,130 miles) in length.\n",
      "\n",
      "### Claim\n",
      "The Nile River has been historically significant.\n",
      "### Attributed Sentences\n",
      "The Nile has been historically significant, playing a crucial role in the development of ancient Egyptian civilization and supporting life and agriculture along its banks.\n",
      "\n",
      "### Claim\n",
      "The Nile River played a crucial role in the development of ancient Egyptian civilization.\n",
      "### Attributed Sentences\n",
      "The Nile has been historically significant, playing a crucial role in the development of ancient Egyptian civilization and supporting life and agriculture along its banks.\n",
      "\n",
      "### Claim\n",
      "The Nile River supported life and agriculture along its banks.\n",
      "### Attributed Sentences\n",
      "The Nile has been historically significant, playing a crucial role in the development of ancient Egyptian civilization and supporting life and agriculture along its banks.\n",
      "\n"
     ]
    }
   ],
   "source": [
    "# get attributed sentences\n",
    "for c in claims:\n",
    "    print(f'### Claim\\n{c.text}')\n",
    "    print('### Attributed Sentences')\n",
    "    for sent_id in c.attributed_sent_ids:\n",
    "        print(response.get_sentence_by_id(sent_id).text.strip())\n",
    "    print()"
   ]
  },
  {
   "cell_type": "code",
   "execution_count": 5,
   "metadata": {},
   "outputs": [
    {
     "name": "stdout",
     "output_type": "stream",
     "text": [
      "6\n"
     ]
    },
    {
     "name": "stderr",
     "output_type": "stream",
     "text": [
      "100%|██████████| 4/4 [00:21<00:00,  5.38s/it]"
     ]
    },
    {
     "name": "stdout",
     "output_type": "stream",
     "text": [
      "[['Neutral', 'Neutral', 'Neutral', 'Neutral', 'Neutral', 'Neutral', 'Neutral', 'Neutral', 'Neutral', 'Neutral', 'Neutral', 'Neutral', 'Neutral', 'Neutral', 'Neutral', 'Neutral', 'Neutral', 'Neutral', 'Neutral', 'Neutral', 'Neutral', 'Neutral', 'Neutral', 'Neutral', 'Neutral', 'Neutral', 'Neutral', 'Neutral', 'Neutral', 'Neutral', 'Neutral', 'Neutral', 'Neutral', 'Neutral', 'Neutral', 'Neutral', 'Neutral', 'Neutral', 'Neutral', 'Neutral', 'Neutral', 'Neutral', 'Neutral', 'Neutral', 'Neutral', 'Neutral', 'Neutral', 'Neutral', 'Neutral']]\n",
      "49\n"
     ]
    },
    {
     "name": "stderr",
     "output_type": "stream",
     "text": [
      "\n"
     ]
    }
   ],
   "source": [
    "from refchecker.checker import LLMChecker\n",
    "\n",
    "print(len(claims))\n",
    "\n",
    "checker = LLMChecker(model='claude3')\n",
    "results = checker.check(\n",
    "    claim=[c.text for c in claims],\n",
    "    reference=[reference],\n",
    "    max_reference_segment_length=0\n",
    ")\n",
    "print(results)\n",
    "print(len(results[0]))"
   ]
  },
  {
   "cell_type": "code",
   "execution_count": null,
   "metadata": {},
   "outputs": [],
   "source": []
  }
 ],
 "metadata": {
  "kernelspec": {
   "display_name": "rc",
   "language": "python",
   "name": "python3"
  },
  "language_info": {
   "codemirror_mode": {
    "name": "ipython",
    "version": 3
   },
   "file_extension": ".py",
   "mimetype": "text/x-python",
   "name": "python",
   "nbconvert_exporter": "python",
   "pygments_lexer": "ipython3",
   "version": "3.10.13"
  }
 },
 "nbformat": 4,
 "nbformat_minor": 2
}
